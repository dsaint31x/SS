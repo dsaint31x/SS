{
  "nbformat": 4,
  "nbformat_minor": 0,
  "metadata": {
    "colab": {
      "provenance": [],
      "authorship_tag": "ABX9TyPVOMtDw6hCqomKLahg37ja",
      "include_colab_link": true
    },
    "kernelspec": {
      "name": "python3",
      "display_name": "Python 3"
    },
    "language_info": {
      "name": "python"
    }
  },
  "cells": [
    {
      "cell_type": "markdown",
      "metadata": {
        "id": "view-in-github",
        "colab_type": "text"
      },
      "source": [
        "<a href=\"https://colab.research.google.com/github/dsaint31x/SS/blob/master/SS_04_PartialFractionDecomposition.ipynb\" target=\"_parent\"><img src=\"https://colab.research.google.com/assets/colab-badge.svg\" alt=\"Open In Colab\"/></a>"
      ]
    },
    {
      "cell_type": "markdown",
      "source": [
        "# Symbolic Process\n",
        "\n",
        "사람은 수학을 풀 때, 변수에 기호를 할당하고 식을 푸는데, 컴퓨터에서도 이와 같이 기호로 다양한 수학적 대상을 표현하여 식을 푸는 것을 symbolic mathematics 또는 symbolic process, symbolic computation이라고 함.\n",
        "\n",
        "수치해석 등에서는 함수의 변수들에 값을 할당하여 결과값을 계산하며 주로 approximation을 구하지만, symbolic computation에서는 변수 기호(symbol)을 그대로 두고 계산하므로 정확한 계산이 가능함.\n",
        "\n",
        "\n",
        "algebra나 symbolic math를 지원하는 것으로는 matlab의 symbolic toolkit, Mathematica, Maple, Woframalpha등이 대표적이며, python기반으로는 sympy등이 있음.\n",
        "\n",
        "# Computer Algebra System (CAS)\n",
        "symbolic mathmatics를 지원하는 프로그램을 지칭함."
      ],
      "metadata": {
        "id": "pOofyNR_zQHT"
      }
    },
    {
      "cell_type": "markdown",
      "source": [
        "Sympy 라이브러리를 사용하기 위한 초기화 부분.\n",
        "* sympy 임포트.\n",
        "* 기본 데이터 구조인 numpy 임포트\n",
        "* LaTex 출력으로 수식을 보기위한 출력 초기화"
      ],
      "metadata": {
        "id": "5-HIn2N21ZHe"
      }
    },
    {
      "cell_type": "code",
      "execution_count": 1,
      "metadata": {
        "id": "-kqQPkz4zZl2"
      },
      "outputs": [],
      "source": [
        "import sympy \n",
        "import numpy as np\n",
        "sympy.init_printing()"
      ]
    },
    {
      "cell_type": "markdown",
      "source": [
        "다음과 같은 $s$에 대한 다항식의 ratio (LT의 일반형)이 있다고 하자.\n",
        "$$ \\frac{N(s)}{D(s)} = \\frac{s^4 + 8 s^3 + 16 s^2 + 9s + 6}{s^3 + 6s^2+11s +6} $$\n",
        "다음 코드는 이를 sympy로 표현한 것임."
      ],
      "metadata": {
        "id": "rkLOBUOIzjQu"
      }
    },
    {
      "cell_type": "code",
      "source": [
        "s = sympy.symbols('s')\n",
        "\n",
        "X = (s**4 + 8*s**3+16*s**2+9*s+6) / (s**3 + 6*s**2 + 11*s +6)\n",
        "X"
      ],
      "metadata": {
        "colab": {
          "base_uri": "https://localhost:8080/",
          "height": 55
        },
        "id": "E2D_RsuWzhZ4",
        "outputId": "79edecce-54a5-4067-a058-c493de36d1b2"
      },
      "execution_count": 5,
      "outputs": [
        {
          "output_type": "execute_result",
          "data": {
            "text/plain": [
              " 4      3       2          \n",
              "s  + 8⋅s  + 16⋅s  + 9⋅s + 6\n",
              "───────────────────────────\n",
              "     3      2              \n",
              "    s  + 6⋅s  + 11⋅s + 6   "
            ],
            "image/png": "[encoded data removed]",
            "text/latex": "$\\displaystyle \\frac{s^{4} + 8 s^{3} + 16 s^{2} + 9 s + 6}{s^{3} + 6 s^{2} + 11 s + 6}$"
          },
          "metadata": {},
          "execution_count": 5
        }
      ]
    },
    {
      "cell_type": "markdown",
      "source": [
        "Partial fraction expansion (or Partial fraction decomposition)의 수행은 다음과 같음."
      ],
      "metadata": {
        "id": "epBBal9U2FBy"
      }
    },
    {
      "cell_type": "code",
      "source": [
        "sympy.apart(X).simplify()"
      ],
      "metadata": {
        "colab": {
          "base_uri": "https://localhost:8080/",
          "height": 52
        },
        "id": "5iUG8sM1zn7f",
        "outputId": "11cb1525-b89f-4e5a-fa85-d50eda1c05ba"
      },
      "execution_count": 6,
      "outputs": [
        {
          "output_type": "execute_result",
          "data": {
            "text/plain": [
              "          6       4       3  \n",
              "s + 2 - ───── - ───── + ─────\n",
              "        s + 3   s + 2   s + 1"
            ],
            "image/png": "[encoded data removed]",
            "text/latex": "$\\displaystyle s + 2 - \\frac{6}{s + 3} - \\frac{4}{s + 2} + \\frac{3}{s + 1}$"
          },
          "metadata": {},
          "execution_count": 6
        }
      ]
    },
    {
      "cell_type": "markdown",
      "source": [
        "$$ Y(s) = U(s) G(s) = \\frac{1}{s} \\frac{2s+10}{s^2 +2s+10} $$"
      ],
      "metadata": {
        "id": "Ctm4N82Fzsxe"
      }
    },
    {
      "cell_type": "code",
      "source": [
        "F = 1 / s * (2*s+10)/(s**2+2*s+10)\n",
        "F"
      ],
      "metadata": {
        "colab": {
          "base_uri": "https://localhost:8080/",
          "height": 55
        },
        "id": "Iptrqf_5zqr3",
        "outputId": "9ae3b84f-372c-4570-f17f-bfe16d333e02"
      },
      "execution_count": null,
      "outputs": [
        {
          "output_type": "execute_result",
          "data": {
            "text/plain": [
              "     2⋅s + 10    \n",
              "─────────────────\n",
              "  ⎛ 2           ⎞\n",
              "s⋅⎝s  + 2⋅s + 10⎠"
            ],
            "image/png": "[encoded data removed]",
            "text/latex": "$\\displaystyle \\frac{2 s + 10}{s \\left(s^{2} + 2 s + 10\\right)}$"
          },
          "metadata": {},
          "execution_count": 4
        }
      ]
    },
    {
      "cell_type": "code",
      "source": [
        "sympy.apart(F)"
      ],
      "metadata": {
        "colab": {
          "base_uri": "https://localhost:8080/",
          "height": 52
        },
        "id": "dVnbCnp9zwOX",
        "outputId": "f77d6eb7-fd14-49f5-b1e0-a5aa8db4fe42"
      },
      "execution_count": null,
      "outputs": [
        {
          "output_type": "execute_result",
          "data": {
            "text/plain": [
              "        s         1\n",
              "- ───────────── + ─\n",
              "   2              s\n",
              "  s  + 2⋅s + 10    "
            ],
            "image/png": "[encoded data removed]",
            "text/latex": "$\\displaystyle - \\frac{s}{s^{2} + 2 s + 10} + \\frac{1}{s}$"
          },
          "metadata": {},
          "execution_count": 5
        }
      ]
    },
    {
      "cell_type": "code",
      "source": [
        "sympy.apart(F, full=True).doit()"
      ],
      "metadata": {
        "colab": {
          "base_uri": "https://localhost:8080/",
          "height": 61
        },
        "id": "rZuZm6Uqzzw-",
        "outputId": "92552912-7bb3-4d93-ac4f-9f578831bc17"
      },
      "execution_count": null,
      "outputs": [
        {
          "output_type": "execute_result",
          "data": {
            "text/plain": [
              "                        2                    2           \n",
              "67   23⋅ⅈ   7⋅(-1 - 3⋅ⅈ)    67   7⋅(-1 + 3⋅ⅈ)    23⋅ⅈ    \n",
              "── - ──── + ─────────────   ── + ───────────── + ────    \n",
              "90    30          45        90         45         30    1\n",
              "───────────────────────── + ───────────────────────── + ─\n",
              "       s + 1 + 3⋅ⅈ                 s + 1 - 3⋅ⅈ          s"
            ],
            "image/png": "[encoded data removed]",
            "text/latex": "$\\displaystyle \\frac{\\frac{67}{90} - \\frac{23 i}{30} + \\frac{7 \\left(-1 - 3 i\\right)^{2}}{45}}{s + 1 + 3 i} + \\frac{\\frac{67}{90} + \\frac{7 \\left(-1 + 3 i\\right)^{2}}{45} + \\frac{23 i}{30}}{s + 1 - 3 i} + \\frac{1}{s}$"
          },
          "metadata": {},
          "execution_count": 6
        }
      ]
    },
    {
      "cell_type": "code",
      "source": [
        "F2 = 400*(s+9)/(s*(s+5)**3)\n",
        "F2"
      ],
      "metadata": {
        "colab": {
          "base_uri": "https://localhost:8080/",
          "height": 58
        },
        "id": "VO-eCNvXz1jG",
        "outputId": "1a7d4599-de3d-4393-b872-b1a37b84b265"
      },
      "execution_count": null,
      "outputs": [
        {
          "output_type": "execute_result",
          "data": {
            "text/plain": [
              "400⋅s + 3600\n",
              "────────────\n",
              "          3 \n",
              " s⋅(s + 5)  "
            ],
            "image/png": "[encoded data removed]",
            "text/latex": "$\\displaystyle \\frac{400 s + 3600}{s \\left(s + 5\\right)^{3}}$"
          },
          "metadata": {},
          "execution_count": 7
        }
      ]
    },
    {
      "cell_type": "code",
      "source": [
        "sympy.apart(F, full=True)"
      ],
      "metadata": {
        "colab": {
          "base_uri": "https://localhost:8080/",
          "height": 68
        },
        "id": "jH4x-op10DqO",
        "outputId": "10790690-30ef-4a8e-e875-b84933c5cf61"
      },
      "execution_count": null,
      "outputs": [
        {
          "output_type": "execute_result",
          "data": {
            "text/plain": [
              "       ⎛                      2           ⎞    \n",
              "       ⎜                   7⋅a    23⋅a    ⎟    \n",
              "       ⎜                   ──── + ──── + 1⎟    \n",
              "       ⎜ 2                  45     90     ⎟   1\n",
              "RootSum⎜w  + 2⋅w + 10, a ↦ ───────────────⎟ + ─\n",
              "       ⎝                        -a + s    ⎠   s"
            ],
            "image/png": "[encoded data removed]",
            "text/latex": "$\\displaystyle \\operatorname{RootSum} {\\left(w^{2} + 2 w + 10, \\left( a \\mapsto \\frac{\\frac{7 a^{2}}{45} + \\frac{23 a}{90} + 1}{- a + s} \\right)\\right)} + \\frac{1}{s}$"
          },
          "metadata": {},
          "execution_count": 8
        }
      ]
    },
    {
      "cell_type": "code",
      "source": [
        "sympy.apart(F, full=True).doit()"
      ],
      "metadata": {
        "colab": {
          "base_uri": "https://localhost:8080/",
          "height": 61
        },
        "id": "B6E4Qt2C0IWO",
        "outputId": "d26b1347-715b-4036-e36a-ae486350e41c"
      },
      "execution_count": null,
      "outputs": [
        {
          "output_type": "execute_result",
          "data": {
            "text/plain": [
              "                        2                    2           \n",
              "67   23⋅ⅈ   7⋅(-1 - 3⋅ⅈ)    67   7⋅(-1 + 3⋅ⅈ)    23⋅ⅈ    \n",
              "── - ──── + ─────────────   ── + ───────────── + ────    \n",
              "90    30          45        90         45         30    1\n",
              "───────────────────────── + ───────────────────────── + ─\n",
              "       s + 1 + 3⋅ⅈ                 s + 1 - 3⋅ⅈ          s"
            ],
            "image/png": "[encoded data removed]",
            "text/latex": "$\\displaystyle \\frac{\\frac{67}{90} - \\frac{23 i}{30} + \\frac{7 \\left(-1 - 3 i\\right)^{2}}{45}}{s + 1 + 3 i} + \\frac{\\frac{67}{90} + \\frac{7 \\left(-1 + 3 i\\right)^{2}}{45} + \\frac{23 i}{30}}{s + 1 - 3 i} + \\frac{1}{s}$"
          },
          "metadata": {},
          "execution_count": 9
        }
      ]
    },
    {
      "cell_type": "code",
      "source": [
        "F3=(s+1)/(s*(s**2+s+1))\n",
        "F3"
      ],
      "metadata": {
        "colab": {
          "base_uri": "https://localhost:8080/",
          "height": 55
        },
        "id": "-jCHIQXr0N8e",
        "outputId": "f5daa7d4-48a8-45ae-a9d7-0cdb26c13122"
      },
      "execution_count": null,
      "outputs": [
        {
          "output_type": "execute_result",
          "data": {
            "text/plain": [
              "    s + 1     \n",
              "──────────────\n",
              "  ⎛ 2        ⎞\n",
              "s⋅⎝s  + s + 1⎠"
            ],
            "image/png": "[encoded data removed]",
            "text/latex": "$\\displaystyle \\frac{s + 1}{s \\left(s^{2} + s + 1\\right)}$"
          },
          "metadata": {},
          "execution_count": 10
        }
      ]
    },
    {
      "cell_type": "code",
      "source": [
        "sympy.apart(F3, full=True).doit()"
      ],
      "metadata": {
        "colab": {
          "base_uri": "https://localhost:8080/",
          "height": 78
        },
        "id": "Bm4nB-QLUbq2",
        "outputId": "5285f250-7d85-4bef-f745-e870e23703e4"
      },
      "execution_count": null,
      "outputs": [
        {
          "output_type": "execute_result",
          "data": {
            "text/plain": [
              "                           2                     2             \n",
              "               ⎛  1   √3⋅ⅈ⎞          ⎛  1   √3⋅ⅈ⎞              \n",
              "             5⋅⎜- ─ - ────⎟        5⋅⎜- ─ + ────⎟              \n",
              "1   2⋅√3⋅ⅈ     ⎝  2    2  ⎠    1     ⎝  2    2  ⎠    2⋅√3⋅ⅈ    \n",
              "─ - ────── + ───────────────   ─ + ─────────────── + ──────    \n",
              "3     3             3          3          3            3      1\n",
              "──────────────────────────── + ──────────────────────────── + ─\n",
              "            1   √3⋅ⅈ                       1   √3⋅ⅈ           s\n",
              "        s + ─ + ────                   s + ─ - ────            \n",
              "            2    2                         2    2              "
            ],
            "image/png": "[encoded data removed]",
            "text/latex": "$\\displaystyle \\frac{\\frac{1}{3} - \\frac{2 \\sqrt{3} i}{3} + \\frac{5 \\left(- \\frac{1}{2} - \\frac{\\sqrt{3} i}{2}\\right)^{2}}{3}}{s + \\frac{1}{2} + \\frac{\\sqrt{3} i}{2}} + \\frac{\\frac{1}{3} + \\frac{5 \\left(- \\frac{1}{2} + \\frac{\\sqrt{3} i}{2}\\right)^{2}}{3} + \\frac{2 \\sqrt{3} i}{3}}{s + \\frac{1}{2} - \\frac{\\sqrt{3} i}{2}} + \\frac{1}{s}$"
          },
          "metadata": {},
          "execution_count": 11
        }
      ]
    },
    {
      "cell_type": "code",
      "source": [
        "s, t = sympy.symbols('s, t')\n",
        "sympy.inverse_laplace_transform(F3.apart(s, full=True), s, t, noconds=True).doit()"
      ],
      "metadata": {
        "colab": {
          "base_uri": "https://localhost:8080/",
          "height": 66
        },
        "id": "hL0n8JM0Ue2c",
        "outputId": "229c2b15-ed67-4484-d8ba-189a6c5096a1"
      },
      "execution_count": null,
      "outputs": [
        {
          "output_type": "execute_result",
          "data": {
            "text/plain": [
              "                                   -t             \n",
              "                                   ───            \n",
              "     ⎛     ⎛√3⋅t⎞         ⎛√3⋅t⎞⎞   2             \n",
              "  √3⋅⎜- sin⎜────⎟ + √3⋅cos⎜────⎟⎟⋅ℯ   ⋅θ(t)       \n",
              "     ⎝     ⎝ 2  ⎠         ⎝ 2  ⎠⎠                 \n",
              "- ───────────────────────────────────────── + θ(t)\n",
              "                      3                           "
            ],
            "image/png": "[encoded data removed]",
            "text/latex": "$\\displaystyle - \\frac{\\sqrt{3} \\left(- \\sin{\\left(\\frac{\\sqrt{3} t}{2} \\right)} + \\sqrt{3} \\cos{\\left(\\frac{\\sqrt{3} t}{2} \\right)}\\right) e^{- \\frac{t}{2}} \\theta\\left(t\\right)}{3} + \\theta\\left(t\\right)$"
          },
          "metadata": {},
          "execution_count": 16
        }
      ]
    },
    {
      "cell_type": "code",
      "source": [],
      "metadata": {
        "id": "ZV30hHR9VxH5"
      },
      "execution_count": null,
      "outputs": []
    }
  ]
}